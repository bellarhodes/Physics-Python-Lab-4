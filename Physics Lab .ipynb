{
 "cells": [
  {
   "cell_type": "code",
   "execution_count": 10,
   "metadata": {},
   "outputs": [
    {
     "name": "stdout",
     "output_type": "stream",
     "text": [
      "c= 205.2\n"
     ]
    }
   ],
   "source": [
    "import numpy as np\n",
    "\n",
    "def fred(a,b):\n",
    "    c=(a+b)*12\n",
    "    return c\n",
    "\n",
    "a=13.2\n",
    "b=3.9\n",
    "\n",
    "c=fred(a,b)\n",
    "\n",
    "print(\"c=\",c)"
   ]
  },
  {
   "cell_type": "code",
   "execution_count": 11,
   "metadata": {},
   "outputs": [
    {
     "name": "stdout",
     "output_type": "stream",
     "text": [
      "0.01414213562373095\n"
     ]
    }
   ],
   "source": [
    "def rule3(da, db):\n",
    "    dQ=np.sqrt(da**2+db**2)\n",
    "    return dQ\n",
    "d1=1.2\n",
    "d2=1.3\n",
    "errd1=0.01\n",
    "errd2=0.01\n",
    "errdtotal=rule3(errd1,errd2)\n",
    "print(errdtotal)\n"
   ]
  },
  {
   "cell_type": "code",
   "execution_count": 12,
   "metadata": {},
   "outputs": [
    {
     "name": "stdout",
     "output_type": "stream",
     "text": [
      "[ 3  6 36]\n",
      "[ 4  8 48]\n"
     ]
    }
   ],
   "source": [
    "x = np.array([1,2,12])\n",
    "\n",
    "y = x*3\n",
    "print (y)\n",
    "\n",
    "z = x + y\n",
    "print (z)\n"
   ]
  },
  {
   "cell_type": "code",
   "execution_count": 13,
   "metadata": {},
   "outputs": [
    {
     "name": "stdout",
     "output_type": "stream",
     "text": [
      "standard dev x= 0.33870669054835956\n",
      "xmean= 1.2833333333333334\n"
     ]
    }
   ],
   "source": [
    "x = np.array([1,2,1.2,1.3,1,1.2])\n",
    "std_x = np.std(x)\n",
    "print (\"standard dev x=\",std_x)\n",
    "xmean = np.average(x)\n",
    "print (\"xmean=\",xmean)"
   ]
  },
  {
   "cell_type": "code",
   "execution_count": 18,
   "metadata": {},
   "outputs": [
    {
     "name": "stdout",
     "output_type": "stream",
     "text": [
      "dQ= 0.0025\n"
     ]
    }
   ],
   "source": [
    "import numpy as np \n",
    "\n",
    "def rule1(erra,c):\n",
    "        dQ=c*erra\n",
    "        return dQ\n",
    "c=5\n",
    "erra=.0005\n",
    "dQ=rule1 (erra,c)\n",
    "print(\"dQ=\", dQ)\n",
    "    "
   ]
  },
  {
   "cell_type": "code",
   "execution_count": 20,
   "metadata": {},
   "outputs": [
    {
     "name": "stdout",
     "output_type": "stream",
     "text": [
      "dQ= 4.800000000000001\n"
     ]
    }
   ],
   "source": [
    "import numpy as np\n",
    "\n",
    "def rule2(m,c,A,erra):\n",
    "    dQ=(c*m*A**(m-1))*errA\n",
    "    return dQ\n",
    "m=2\n",
    "c=5\n",
    "A=2.4\n",
    "errA=.2\n",
    "dQ=rule2(m,c,A,errA)\n",
    "print(\"dQ=\",dQ)\n",
    "        "
   ]
  },
  {
   "cell_type": "code",
   "execution_count": 4,
   "metadata": {},
   "outputs": [
    {
     "name": "stdout",
     "output_type": "stream",
     "text": [
      "dQ= 1.6250000000000002e-05\n"
     ]
    }
   ],
   "source": [
    "import numpy as np\n",
    "\n",
    "def rule4(c,A,n,B,m,Q,errA,errB):\n",
    "    dQ=(Q*(np.sqrt(m*(errA/A))**2+(n*(errB/B)**2)))\n",
    "    return dQ\n",
    "\n",
    "c=3\n",
    "A=0.01\n",
    "n=1\n",
    "B=.002\n",
    "m=2\n",
    "Q=0.0001\n",
    "errA=0.0005\n",
    "errB=0.0005\n",
    "dQ=rule4(c,A,n,B,m,Q,errA,errB)\n",
    "        \n",
    "print(\"dQ=\",dQ)"
   ]
  },
  {
   "cell_type": "code",
   "execution_count": 5,
   "metadata": {},
   "outputs": [
    {
     "name": "stdout",
     "output_type": "stream",
     "text": [
      "dQ= 0.020572001186724875\n"
     ]
    }
   ],
   "source": [
    "import numpy as np\n",
    "\n",
    "def rule4(A,n,B,m,Q,errA,errB):\n",
    "    dQ=(Q*(np.sqrt(m*(errA/A))**2+(n*(errB/B)**2)))\n",
    "    return dQ\n",
    "\n",
    "\n",
    "A=103.44\n",
    "n=-.5\n",
    "B=99\n",
    "m=1\n",
    "Q=2.3013\n",
    "errA=.926\n",
    "errB=.5\n",
    "dQ=rule4(A,n,B,m,Q,errA,errB)\n",
    "        \n",
    "print(\"dQ=\",dQ)"
   ]
  },
  {
   "cell_type": "code",
   "execution_count": 6,
   "metadata": {},
   "outputs": [
    {
     "name": "stdout",
     "output_type": "stream",
     "text": [
      "standard dev x= 0.16872874015739592\n",
      "xmean= 1.1285714285714286\n"
     ]
    }
   ],
   "source": [
    "x = np.array([1.1,1.2,1.3,1.4,.9,.95,1.05])\n",
    "std_x = np.std(x)\n",
    "print (\"standard dev x=\",std_x)\n",
    "xmean = np.average(x)\n",
    "print (\"xmean=\",xmean)\n",
    "#The average values for this data set is 1.129 and the standard deviation taking the average values over the square root of the number of trials is 0.1687#"
   ]
  },
  {
   "cell_type": "markdown",
   "metadata": {},
   "source": [
    "$\\delta Q=\\sqrt{(\\delta A)^2+(\\delta B)^2)}$"
   ]
  },
  {
   "cell_type": "markdown",
   "metadata": {},
   "source": [
    "$\\delta v_i=2.3013*\\sqrt{(\\frac {.926}{103.44})^2+(\\frac {(-.5*.1)}{.99})^2}$"
   ]
  },
  {
   "cell_type": "code",
   "execution_count": null,
   "metadata": {},
   "outputs": [],
   "source": []
  }
 ],
 "metadata": {
  "kernelspec": {
   "display_name": "Python 3",
   "language": "python",
   "name": "python3"
  }
 },
 "nbformat": 4,
 "nbformat_minor": 2
}
